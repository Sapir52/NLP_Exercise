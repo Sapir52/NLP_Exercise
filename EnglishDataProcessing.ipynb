{
 "cells": [
  {
   "cell_type": "code",
   "execution_count": 1,
   "id": "812c6dd4",
   "metadata": {
    "id": "812c6dd4"
   },
   "outputs": [],
   "source": [
    "import pandas as pd\n",
    "import re\n",
    "from nltk import word_tokenize\n",
    "from nltk.corpus import stopwords\n",
    "import string\n",
    "stop_words = set(stopwords.words('english'))\n",
    "from nltk.tokenize import word_tokenize\n",
    "import numpy as np\n",
    "import warnings\n",
    "warnings.filterwarnings('ignore')"
   ]
  },
  {
   "cell_type": "code",
   "execution_count": 2,
   "id": "a02e28ef",
   "metadata": {
    "id": "a02e28ef"
   },
   "outputs": [],
   "source": [
    "class EnglishDataProcessing():\n",
    "    def data_clearing(self, df, row):\n",
    "        # remove urls\n",
    "        df[row] = df[row].apply(lambda x: re.split('https:\\/\\/.*', str(x))[0]) \n",
    "        # Removing unicodes\n",
    "        df[row] = df[row].apply(lambda x:re.sub(r'\\\\u(.){4}', '', x))\n",
    "        # lowercast\n",
    "        df[row]=df[row].apply(lambda x:x.lower())\n",
    "        # fix /n and _\n",
    "        df[row] = df[row].str.replace(r'\\\\n',r' \\n ').str.replace('_',' ')  \n",
    "        # # remove special characters and numbers\n",
    "        df[row] = df[row].apply(lambda x:re.sub('[\\W+|0-9\\n]',' ', str(x)))\n",
    "        # tokenize\n",
    "        df[row] = df[row].apply(word_tokenize)\n",
    "        # remove stopwords\n",
    "        df[row]=df[row].apply(lambda x: [item for item in x if item not in stopwords.words('english')])\n",
    "        # convert list to string\n",
    "        df[row] = ( df[row].transform(lambda x: \" \".join(map(str,x))))\n",
    "        # fix words such as: hôtesses\n",
    "        df[row] = df[row].apply(lambda x:re.sub('[^0-9a-zA-Z_-]', ' ', x))\n",
    "        return df[row]\n",
    "\n",
    "    def drop_empty(self, df):\n",
    "        # delete all rows with column 'Text' has value \"\"\n",
    "        indexNames = df[ (df[\"Text\"] == '')].index\n",
    "        return df.drop(indexNames , inplace=True)\n",
    "    \n",
    "    def save_df(self,df, name_file):\n",
    "        df.to_csv(name_file, index = False, header=True)"
   ]
  },
  {
   "cell_type": "code",
   "execution_count": 11,
   "id": "aef398aa",
   "metadata": {
    "id": "aef398aa"
   },
   "outputs": [
    {
     "name": "stdout",
     "output_type": "stream",
     "text": [
      "                                                Text\n",
      "0   kanyewest repair race relations barackobama ever\n",
      "1  best days life started may allah enable us goo...\n",
      "2                    e u p h r ivotebtsbbmas bts twt\n",
      "3                 whos gon na drive home tonite uber\n",
      "4  pm kst fake love mv new songs love dance steps...\n"
     ]
    }
   ],
   "source": [
    "if __name__ == \"__main__\":\n",
    "    #Read dataset\n",
    "    df = pd.read_excel('data/english_text.xlsx')\n",
    "    obj_class = EnglishDataProcessing()\n",
    "    df[\"Text\"] = obj_class.data_clearing(df, \"Text\")\n",
    "    df = obj_class.drop_empty(df)\n",
    "    obj_class.save_df(df, 'data/preprocessing_english.csv')\n",
    "    print(df.head())"
   ]
  },
  {
   "cell_type": "code",
   "execution_count": null,
   "id": "b2ab8af8",
   "metadata": {},
   "outputs": [],
   "source": []
  }
 ],
 "metadata": {
  "colab": {
   "collapsed_sections": [],
   "name": "DataProcessing.ipynb",
   "provenance": []
  },
  "kernelspec": {
   "display_name": "Python 3",
   "language": "python",
   "name": "python3"
  },
  "language_info": {
   "codemirror_mode": {
    "name": "ipython",
    "version": 3
   },
   "file_extension": ".py",
   "mimetype": "text/x-python",
   "name": "python",
   "nbconvert_exporter": "python",
   "pygments_lexer": "ipython3",
   "version": "3.8.8"
  }
 },
 "nbformat": 4,
 "nbformat_minor": 5
}
